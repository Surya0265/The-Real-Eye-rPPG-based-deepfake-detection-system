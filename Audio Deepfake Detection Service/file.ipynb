{
 "cells": [
  {
   "cell_type": "code",
   "execution_count": 30,
   "metadata": {},
   "outputs": [],
   "source": [
    "import os\n",
    "import torch\n",
    "import torch.nn as nn\n",
    "import torch.optim as optim\n",
    "from torch.utils.data import Dataset, DataLoader\n",
    "from torch.cuda.amp import autocast, GradScaler\n",
    "import numpy as np\n",
    "import pandas as pd\n",
    "import librosa\n",
    "import matplotlib.pyplot as plt\n",
    "from sklearn.model_selection import train_test_split\n",
    "from sklearn.metrics import accuracy_score, roc_auc_score\n",
    "from tqdm import tqdm"
   ]
  },
  {
   "cell_type": "code",
   "execution_count": 31,
   "metadata": {},
   "outputs": [],
   "source": [
    "class ASVspoofDataset(Dataset):\n",
    "    def __init__(self, root_dir, protocol_file, transform=None):\n",
    "        self.root_dir = root_dir\n",
    "        self.transform = transform\n",
    "       \n",
    "        df = pd.read_csv(protocol_file, sep=' ', header=None,\n",
    "                         names=['speaker_id', 'audio_file', 'system_id', 'attack_type', 'key'])\n",
    "       \n",
    "        self.audio_files = df['audio_file'].tolist()\n",
    "        self.labels = (df['key'] == 'spoof').astype(int).tolist()\n",
    "\n",
    "    def __len__(self):\n",
    "        return len(self.audio_files)\n",
    "\n",
    "    def __getitem__(self, idx):\n",
    "        audio_path = os.path.join(self.root_dir, self.audio_files[idx] + '.flac')\n",
    "        try:\n",
    "            audio, sr = librosa.load(audio_path, sr=16000, duration=3)  # Load up to 3 seconds\n",
    "            if len(audio) < sr * 3:\n",
    "                audio = np.pad(audio, (0, sr * 3 - len(audio)), mode='constant')\n",
    "            \n",
    "            if self.transform:\n",
    "                audio = self.transform(audio)\n",
    "            \n",
    "            return audio, self.labels[idx]\n",
    "        except Exception as e:\n",
    "            print(f\"Error processing file {audio_path}: {e}\")\n",
    "            return torch.zeros((80, 300)), self.labels[idx]  # Return a dummy spectrogram\n",
    "\n",
    "\n",
    "\n",
    "class AudioTransform:\n",
    "    def __init__(self, sr=16000, n_mels=80, n_fft=1024, hop_length=512):\n",
    "        self.sr = sr\n",
    "        self.n_mels = n_mels\n",
    "        self.n_fft = n_fft\n",
    "        self.hop_length = hop_length\n",
    "\n",
    "    def __call__(self, audio):\n",
    "        mel_spec = librosa.feature.melspectrogram(y=audio, sr=self.sr, n_mels=self.n_mels,\n",
    "                                                  n_fft=self.n_fft, hop_length=self.hop_length)\n",
    "        mel_spec_db = librosa.power_to_db(mel_spec, ref=np.max)\n",
    "        return torch.from_numpy(mel_spec_db).float()\n",
    "\n",
    "def collate_fn(batch):\n",
    "    audio = [item[0] for item in batch]\n",
    "    labels = torch.tensor([item[1] for item in batch])\n",
    "    \n",
    "    # Pad audio tensors\n",
    "    max_len = max(a.shape[1] for a in audio)\n",
    "    audio_padded = torch.stack([torch.nn.functional.pad(a, (0, max_len - a.shape[1])) for a in audio])\n",
    "    \n",
    "    return audio_padded, labels\n",
    "\n",
    "\n",
    "def extract_features(audio, sr):\n",
    "    # Ensure minimum length for reliable feature extraction\n",
    "    min_audio_length = sr * 0.1  # Minimum 100ms of audio\n",
    "    if len(audio) < min_audio_length:\n",
    "        audio = np.pad(audio, (0, int(min_audio_length - len(audio))), mode='constant')\n",
    "\n",
    "    n_fft = min(2048, len(audio))\n",
    "    hop_length = n_fft // 4  # Increased overlap for short audio\n",
    "\n",
    "    # Compute MFCC features\n",
    "    mfcc = librosa.feature.mfcc(y=audio, sr=sr, n_mfcc=20, n_fft=n_fft, hop_length=hop_length)\n",
    "\n",
    "    # Compute delta features with adaptive width\n",
    "    n_frames = mfcc.shape[1]\n",
    "    if n_frames < 3:\n",
    "        mfcc_delta = np.zeros_like(mfcc)\n",
    "    else:\n",
    "        width = min(9, n_frames - 1)\n",
    "        if width % 2 == 0:\n",
    "            width -= 1\n",
    "        mfcc_delta = librosa.feature.delta(mfcc, width=width)\n",
    "\n",
    "    # Compute Mel-spectrogram\n",
    "    mel_spec = librosa.feature.melspectrogram(y=audio, sr=sr, n_mels=40, n_fft=n_fft, hop_length=hop_length)\n",
    "    mel_spec_db = librosa.power_to_db(mel_spec, ref=np.max)\n",
    "\n",
    "    # Ensure all features have the same number of frames\n",
    "    min_frames = min(mfcc.shape[1], mfcc_delta.shape[1], mel_spec_db.shape[1])\n",
    "    mfcc = mfcc[:, :min_frames]\n",
    "    mfcc_delta = mfcc_delta[:, :min_frames]\n",
    "    mel_spec_db = mel_spec_db[:, :min_frames]\n",
    "\n",
    "    # Concatenate features\n",
    "    features = np.concatenate([mfcc, mfcc_delta, mel_spec_db])\n",
    "    return features\n",
    "\n",
    "\n"
   ]
  },
  {
   "cell_type": "code",
   "execution_count": 32,
   "metadata": {},
   "outputs": [],
   "source": [
    "class ASVResNet(nn.Module):\n",
    "    def __init__(self, num_classes=2):\n",
    "        super(ASVResNet, self).__init__()\n",
    "        self.conv1 = nn.Conv2d(1, 32, kernel_size=3, stride=1, padding=1)\n",
    "        self.bn1 = nn.BatchNorm2d(32)\n",
    "        self.relu = nn.ReLU(inplace=True)\n",
    "        self.layer1 = self.make_layer(32, 64, 2)\n",
    "        self.layer2 = self.make_layer(64, 128, 2)\n",
    "        self.avg_pool = nn.AdaptiveAvgPool2d((1, 1))\n",
    "        self.fc = nn.Linear(128, num_classes)\n",
    "\n",
    "    def make_layer(self, in_channels, out_channels, blocks):\n",
    "        layers = []\n",
    "        for _ in range(blocks):\n",
    "            layers.append(nn.Conv2d(in_channels, out_channels, kernel_size=3, padding=1))\n",
    "            layers.append(nn.BatchNorm2d(out_channels))\n",
    "            layers.append(nn.ReLU(inplace=True))\n",
    "            in_channels = out_channels\n",
    "        return nn.Sequential(*layers)\n",
    "\n",
    "    def forward(self, x):\n",
    "        x = x.unsqueeze(1)  # Add channel dimension\n",
    "        out = self.relu(self.bn1(self.conv1(x)))\n",
    "        out = self.layer1(out)\n",
    "        out = self.layer2(out)\n",
    "        out = self.avg_pool(out)\n",
    "        out = out.view(out.size(0), -1)\n",
    "        out = self.fc(out)\n",
    "        return out\n",
    "\n",
    "def train_model(model, train_loader, val_loader, criterion, optimizer, scheduler, num_epochs, device, checkpoint_path='model_checkpoint.pth'):\n",
    "    best_val_loss = float('inf')\n",
    "    early_stopping_counter = 0\n",
    "    early_stopping_patience = 10\n",
    "\n",
    "    for epoch in range(num_epochs):\n",
    "        model.train()\n",
    "        train_loss = 0.0\n",
    "        train_preds = []\n",
    "        train_labels = []\n",
    "\n",
    "        # Use tqdm for a progress bar\n",
    "        train_bar = tqdm(train_loader, desc=f'Epoch {epoch+1}/{num_epochs} [Train]')\n",
    "        for inputs, labels in train_bar:\n",
    "            inputs, labels = inputs.to(device), labels.to(device)\n",
    "            \n",
    "            optimizer.zero_grad()\n",
    "            outputs = model(inputs)\n",
    "            loss = criterion(outputs, labels)\n",
    "            loss.backward()\n",
    "            optimizer.step()\n",
    "\n",
    "            train_loss += loss.item() * inputs.size(0)\n",
    "            _, preds = torch.max(outputs, 1)\n",
    "            train_preds.extend(preds.cpu().numpy())\n",
    "            train_labels.extend(labels.cpu().numpy())\n",
    "\n",
    "            # Update progress bar\n",
    "            train_bar.set_postfix({'loss': f'{loss.item():.4f}'})\n",
    "\n",
    "        train_loss /= len(train_loader.dataset)\n",
    "        train_acc = accuracy_score(train_labels, train_preds)\n",
    "        train_auc = roc_auc_score(train_labels, train_preds)\n",
    "\n",
    "        model.eval()\n",
    "        val_loss = 0.0\n",
    "        val_preds = []\n",
    "        val_labels = []\n",
    "\n",
    "        val_bar = tqdm(val_loader, desc=f'Epoch {epoch+1}/{num_epochs} [Val]')\n",
    "        with torch.no_grad():\n",
    "            for inputs, labels in val_bar:\n",
    "                inputs, labels = inputs.to(device), labels.to(device)\n",
    "                outputs = model(inputs)\n",
    "                loss = criterion(outputs, labels)\n",
    "\n",
    "                val_loss += loss.item() * inputs.size(0)\n",
    "                _, preds = torch.max(outputs, 1)\n",
    "                val_preds.extend(preds.cpu().numpy())\n",
    "                val_labels.extend(labels.cpu().numpy())\n",
    "\n",
    "                # Update progress bar\n",
    "                val_bar.set_postfix({'loss': f'{loss.item():.4f}'})\n",
    "\n",
    "        val_loss /= len(val_loader.dataset)\n",
    "        val_acc = accuracy_score(val_labels, val_preds)\n",
    "        val_auc = roc_auc_score(val_labels, val_preds)\n",
    "\n",
    "        # Use get_last_lr() instead of the deprecated 'verbose' parameter\n",
    "        current_lr = scheduler.optimizer.param_groups[0]['lr']\n",
    "        scheduler.step(val_loss)\n",
    "\n",
    "        print(f'Epoch {epoch+1}/{num_epochs}')\n",
    "        print(f'Train Loss: {train_loss:.4f}, Train Acc: {train_acc:.4f}, Train AUC: {train_auc:.4f}')\n",
    "        print(f'Val Loss: {val_loss:.4f}, Val Acc: {val_acc:.4f}, Val AUC: {val_auc:.4f}')\n",
    "        print(f'Learning Rate: {current_lr:.6f}')\n",
    "\n",
    "        if val_loss < best_val_loss:\n",
    "            best_val_loss = val_loss\n",
    "            torch.save({\n",
    "                'epoch': epoch,\n",
    "                'model_state_dict': model.state_dict(),\n",
    "                'optimizer_state_dict': optimizer.state_dict(),\n",
    "                'scheduler_state_dict': scheduler.state_dict(),\n",
    "                'best_val_loss': best_val_loss,\n",
    "            }, checkpoint_path)\n",
    "            print(f\"Checkpoint saved to {checkpoint_path}\")\n",
    "            early_stopping_counter = 0\n",
    "        else:\n",
    "            early_stopping_counter += 1\n",
    "\n",
    "        if early_stopping_counter >= early_stopping_patience:\n",
    "            print(\"Early stopping\")\n",
    "            break\n",
    "\n",
    "    # Load the best model\n",
    "    checkpoint = torch.load(checkpoint_path)\n",
    "    model.load_state_dict(checkpoint['model_state_dict'])\n",
    "    return model\n",
    "\n",
    "def check_dataset_structure(root_dir):\n",
    "    required_paths = [\n",
    "        os.path.join(root_dir, \"LA\", \"ASVspoof2019_LA_train\"),\n",
    "        os.path.join(root_dir, \"LA\", \"ASVspoof2019_LA_cm_protocols\", \"ASVspoof2019.LA.cm.train.trn.txt\")\n",
    "    ]\n",
    "    \n",
    "    for path in required_paths:\n",
    "        if not os.path.exists(path):\n",
    "            print(f\"Error: {path} not found.\")\n",
    "            return False\n",
    "    return True"
   ]
  },
  {
   "cell_type": "code",
   "execution_count": 33,
   "metadata": {},
   "outputs": [
    {
     "name": "stdout",
     "output_type": "stream",
     "text": [
      "Starting ASVspoof detection process...\n",
      "Dataset root: C:\\Users\\yeshw\\Downloads\\asvspoof\\LA\\LA\n",
      "Train directory: C:\\Users\\yeshw\\Downloads\\asvspoof\\LA\\LA\\ASVspoof2019_LA_train\\flac\n",
      "Protocol file: C:\\Users\\yeshw\\Downloads\\asvspoof\\LA\\LA\\ASVspoof2019_LA_cm_protocols\\ASVspoof2019.LA.cm.train.trn.txt\n",
      "Contents of train directory: ['LA_T_1000137.flac', 'LA_T_1000406.flac', 'LA_T_1000648.flac', 'LA_T_1000824.flac', 'LA_T_1001074.flac', 'LA_T_1001114.flac', 'LA_T_1001169.flac', 'LA_T_1001718.flac', 'LA_T_1001871.flac', 'LA_T_1002656.flac']...\n",
      "Creating dataset and applying transformations...\n",
      "Total samples in dataset: 25380\n",
      "Sample audio shape: torch.Size([80, 94])\n",
      "Sample label: Bonafide\n",
      "Splitting dataset into train and validation sets...\n",
      "Train set size: 20304\n",
      "Validation set size: 5076\n",
      "Creating data loaders...\n",
      "First batch - Inputs shape: torch.Size([32, 80, 94]), Labels shape: torch.Size([32])\n",
      "Initializing model...\n",
      "ASVResNet(\n",
      "  (conv1): Conv2d(1, 32, kernel_size=(3, 3), stride=(1, 1), padding=(1, 1))\n",
      "  (bn1): BatchNorm2d(32, eps=1e-05, momentum=0.1, affine=True, track_running_stats=True)\n",
      "  (relu): ReLU(inplace=True)\n",
      "  (layer1): Sequential(\n",
      "    (0): Conv2d(32, 64, kernel_size=(3, 3), stride=(1, 1), padding=(1, 1))\n",
      "    (1): BatchNorm2d(64, eps=1e-05, momentum=0.1, affine=True, track_running_stats=True)\n",
      "    (2): ReLU(inplace=True)\n",
      "    (3): Conv2d(64, 64, kernel_size=(3, 3), stride=(1, 1), padding=(1, 1))\n",
      "    (4): BatchNorm2d(64, eps=1e-05, momentum=0.1, affine=True, track_running_stats=True)\n",
      "    (5): ReLU(inplace=True)\n",
      "  )\n",
      "  (layer2): Sequential(\n",
      "    (0): Conv2d(64, 128, kernel_size=(3, 3), stride=(1, 1), padding=(1, 1))\n",
      "    (1): BatchNorm2d(128, eps=1e-05, momentum=0.1, affine=True, track_running_stats=True)\n",
      "    (2): ReLU(inplace=True)\n",
      "    (3): Conv2d(128, 128, kernel_size=(3, 3), stride=(1, 1), padding=(1, 1))\n",
      "    (4): BatchNorm2d(128, eps=1e-05, momentum=0.1, affine=True, track_running_stats=True)\n",
      "    (5): ReLU(inplace=True)\n",
      "  )\n",
      "  (avg_pool): AdaptiveAvgPool2d(output_size=(1, 1))\n",
      "  (fc): Linear(in_features=128, out_features=2, bias=True)\n",
      ")\n"
     ]
    },
    {
     "name": "stderr",
     "output_type": "stream",
     "text": [
      "c:\\Users\\yeshw\\anaconda3\\envs\\myenv\\lib\\site-packages\\torch\\optim\\lr_scheduler.py:28: UserWarning: The verbose parameter is deprecated. Please use get_last_lr() to access the learning rate.\n",
      "  warnings.warn(\"The verbose parameter is deprecated. Please use get_last_lr() \"\n"
     ]
    },
    {
     "name": "stdout",
     "output_type": "stream",
     "text": [
      "Using device: cuda\n",
      "CUDA Device: NVIDIA GeForce RTX 4050 Laptop GPU\n",
      "CUDA Version: 12.1\n",
      "Starting training process...\n"
     ]
    },
    {
     "name": "stderr",
     "output_type": "stream",
     "text": [
      "Epoch 1/50 [Train]: 100%|██████████| 635/635 [06:18<00:00,  1.68it/s, loss=0.1959]\n",
      "Epoch 1/50 [Val]: 100%|██████████| 159/159 [01:30<00:00,  1.76it/s, loss=0.1751]\n"
     ]
    },
    {
     "name": "stdout",
     "output_type": "stream",
     "text": [
      "Epoch 1/50\n",
      "Train Loss: 0.2249, Train Acc: 0.9077, Train AUC: 0.5830\n",
      "Val Loss: 0.1675, Val Acc: 0.9295, Val AUC: 0.6681\n",
      "Learning Rate: 0.001000\n",
      "Checkpoint saved to best_asvspoof_model.pth\n"
     ]
    },
    {
     "name": "stderr",
     "output_type": "stream",
     "text": [
      "Epoch 2/50 [Train]: 100%|██████████| 635/635 [02:19<00:00,  4.57it/s, loss=0.0066]\n",
      "Epoch 2/50 [Val]: 100%|██████████| 159/159 [00:30<00:00,  5.16it/s, loss=0.4546]\n"
     ]
    },
    {
     "name": "stdout",
     "output_type": "stream",
     "text": [
      "Epoch 2/50\n",
      "Train Loss: 0.0989, Train Acc: 0.9617, Train AUC: 0.8550\n",
      "Val Loss: 0.1762, Val Acc: 0.9269, Val AUC: 0.6453\n",
      "Learning Rate: 0.001000\n"
     ]
    },
    {
     "name": "stderr",
     "output_type": "stream",
     "text": [
      "Epoch 3/50 [Train]: 100%|██████████| 635/635 [05:45<00:00,  1.84it/s, loss=0.0200]\n",
      "Epoch 3/50 [Val]: 100%|██████████| 159/159 [01:23<00:00,  1.91it/s, loss=0.1897]\n"
     ]
    },
    {
     "name": "stdout",
     "output_type": "stream",
     "text": [
      "Epoch 3/50\n",
      "Train Loss: 0.0521, Train Acc: 0.9818, Train AUC: 0.9389\n",
      "Val Loss: 0.1039, Val Acc: 0.9515, Val AUC: 0.7625\n",
      "Learning Rate: 0.001000\n",
      "Checkpoint saved to best_asvspoof_model.pth\n"
     ]
    },
    {
     "name": "stderr",
     "output_type": "stream",
     "text": [
      "Epoch 4/50 [Train]: 100%|██████████| 635/635 [02:28<00:00,  4.28it/s, loss=0.0111]\n",
      "Epoch 4/50 [Val]: 100%|██████████| 159/159 [00:30<00:00,  5.30it/s, loss=0.0819]\n"
     ]
    },
    {
     "name": "stdout",
     "output_type": "stream",
     "text": [
      "Epoch 4/50\n",
      "Train Loss: 0.0360, Train Acc: 0.9875, Train AUC: 0.9599\n",
      "Val Loss: 0.0478, Val Acc: 0.9833, Val AUC: 0.9428\n",
      "Learning Rate: 0.001000\n",
      "Checkpoint saved to best_asvspoof_model.pth\n"
     ]
    },
    {
     "name": "stderr",
     "output_type": "stream",
     "text": [
      "Epoch 5/50 [Train]: 100%|██████████| 635/635 [02:18<00:00,  4.59it/s, loss=0.0274]\n",
      "Epoch 5/50 [Val]: 100%|██████████| 159/159 [00:30<00:00,  5.20it/s, loss=0.1508]\n"
     ]
    },
    {
     "name": "stdout",
     "output_type": "stream",
     "text": [
      "Epoch 5/50\n",
      "Train Loss: 0.0270, Train Acc: 0.9910, Train AUC: 0.9692\n",
      "Val Loss: 0.0587, Val Acc: 0.9738, Val AUC: 0.8716\n",
      "Learning Rate: 0.001000\n"
     ]
    },
    {
     "name": "stderr",
     "output_type": "stream",
     "text": [
      "Epoch 6/50 [Train]: 100%|██████████| 635/635 [02:21<00:00,  4.47it/s, loss=0.0018]\n",
      "Epoch 6/50 [Val]: 100%|██████████| 159/159 [00:31<00:00,  5.10it/s, loss=0.1948]\n"
     ]
    },
    {
     "name": "stdout",
     "output_type": "stream",
     "text": [
      "Epoch 6/50\n",
      "Train Loss: 0.0242, Train Acc: 0.9916, Train AUC: 0.9728\n",
      "Val Loss: 0.0882, Val Acc: 0.9667, Val AUC: 0.9806\n",
      "Learning Rate: 0.001000\n"
     ]
    },
    {
     "name": "stderr",
     "output_type": "stream",
     "text": [
      "Epoch 7/50 [Train]: 100%|██████████| 635/635 [02:21<00:00,  4.48it/s, loss=0.0016]\n",
      "Epoch 7/50 [Val]: 100%|██████████| 159/159 [00:31<00:00,  5.09it/s, loss=0.0999]\n"
     ]
    },
    {
     "name": "stdout",
     "output_type": "stream",
     "text": [
      "Epoch 7/50\n",
      "Train Loss: 0.0197, Train Acc: 0.9934, Train AUC: 0.9795\n",
      "Val Loss: 0.0336, Val Acc: 0.9868, Val AUC: 0.9362\n",
      "Learning Rate: 0.001000\n",
      "Checkpoint saved to best_asvspoof_model.pth\n"
     ]
    },
    {
     "name": "stderr",
     "output_type": "stream",
     "text": [
      "Epoch 8/50 [Train]: 100%|██████████| 635/635 [02:21<00:00,  4.48it/s, loss=0.0009]\n",
      "Epoch 8/50 [Val]: 100%|██████████| 159/159 [00:31<00:00,  5.06it/s, loss=0.0516]\n"
     ]
    },
    {
     "name": "stdout",
     "output_type": "stream",
     "text": [
      "Epoch 8/50\n",
      "Train Loss: 0.0157, Train Acc: 0.9953, Train AUC: 0.9847\n",
      "Val Loss: 0.0185, Val Acc: 0.9927, Val AUC: 0.9771\n",
      "Learning Rate: 0.001000\n",
      "Checkpoint saved to best_asvspoof_model.pth\n"
     ]
    },
    {
     "name": "stderr",
     "output_type": "stream",
     "text": [
      "Epoch 9/50 [Train]: 100%|██████████| 635/635 [02:21<00:00,  4.48it/s, loss=0.0007]\n",
      "Epoch 9/50 [Val]: 100%|██████████| 159/159 [00:30<00:00,  5.13it/s, loss=0.0077]\n"
     ]
    },
    {
     "name": "stdout",
     "output_type": "stream",
     "text": [
      "Epoch 9/50\n",
      "Train Loss: 0.0166, Train Acc: 0.9951, Train AUC: 0.9854\n",
      "Val Loss: 0.0105, Val Acc: 0.9963, Val AUC: 0.9971\n",
      "Learning Rate: 0.001000\n",
      "Checkpoint saved to best_asvspoof_model.pth\n"
     ]
    },
    {
     "name": "stderr",
     "output_type": "stream",
     "text": [
      "Epoch 10/50 [Train]: 100%|██████████| 635/635 [02:24<00:00,  4.38it/s, loss=0.0037]\n",
      "Epoch 10/50 [Val]: 100%|██████████| 159/159 [00:34<00:00,  4.64it/s, loss=0.0164]\n"
     ]
    },
    {
     "name": "stdout",
     "output_type": "stream",
     "text": [
      "Epoch 10/50\n",
      "Train Loss: 0.0160, Train Acc: 0.9952, Train AUC: 0.9857\n",
      "Val Loss: 0.0209, Val Acc: 0.9931, Val AUC: 0.9953\n",
      "Learning Rate: 0.001000\n"
     ]
    },
    {
     "name": "stderr",
     "output_type": "stream",
     "text": [
      "Epoch 11/50 [Train]: 100%|██████████| 635/635 [02:30<00:00,  4.22it/s, loss=0.0003]\n",
      "Epoch 11/50 [Val]: 100%|██████████| 159/159 [00:34<00:00,  4.65it/s, loss=0.0025]\n"
     ]
    },
    {
     "name": "stdout",
     "output_type": "stream",
     "text": [
      "Epoch 11/50\n",
      "Train Loss: 0.0117, Train Acc: 0.9963, Train AUC: 0.9887\n",
      "Val Loss: 0.0067, Val Acc: 0.9986, Val AUC: 0.9950\n",
      "Learning Rate: 0.001000\n",
      "Checkpoint saved to best_asvspoof_model.pth\n"
     ]
    },
    {
     "name": "stderr",
     "output_type": "stream",
     "text": [
      "Epoch 12/50 [Train]: 100%|██████████| 635/635 [02:18<00:00,  4.57it/s, loss=0.0021]\n",
      "Epoch 12/50 [Val]: 100%|██████████| 159/159 [00:30<00:00,  5.29it/s, loss=4.0821]\n"
     ]
    },
    {
     "name": "stdout",
     "output_type": "stream",
     "text": [
      "Epoch 12/50\n",
      "Train Loss: 0.0116, Train Acc: 0.9964, Train AUC: 0.9892\n",
      "Val Loss: 3.0427, Val Acc: 0.3875, Val AUC: 0.6590\n",
      "Learning Rate: 0.001000\n"
     ]
    },
    {
     "name": "stderr",
     "output_type": "stream",
     "text": [
      "Epoch 13/50 [Train]: 100%|██████████| 635/635 [02:18<00:00,  4.58it/s, loss=0.0605]\n",
      "Epoch 13/50 [Val]: 100%|██████████| 159/159 [00:30<00:00,  5.21it/s, loss=0.0048]\n"
     ]
    },
    {
     "name": "stdout",
     "output_type": "stream",
     "text": [
      "Epoch 13/50\n",
      "Train Loss: 0.0114, Train Acc: 0.9961, Train AUC: 0.9890\n",
      "Val Loss: 0.0087, Val Acc: 0.9972, Val AUC: 0.9865\n",
      "Learning Rate: 0.001000\n"
     ]
    },
    {
     "name": "stderr",
     "output_type": "stream",
     "text": [
      "Epoch 14/50 [Train]: 100%|██████████| 635/635 [02:18<00:00,  4.59it/s, loss=0.0132]\n",
      "Epoch 14/50 [Val]: 100%|██████████| 159/159 [00:29<00:00,  5.42it/s, loss=5.5062] \n"
     ]
    },
    {
     "name": "stdout",
     "output_type": "stream",
     "text": [
      "Epoch 14/50\n",
      "Train Loss: 0.0101, Train Acc: 0.9968, Train AUC: 0.9911\n",
      "Val Loss: 5.5826, Val Acc: 0.8980, Val AUC: 0.5000\n",
      "Learning Rate: 0.001000\n"
     ]
    },
    {
     "name": "stderr",
     "output_type": "stream",
     "text": [
      "Epoch 15/50 [Train]: 100%|██████████| 635/635 [02:18<00:00,  4.59it/s, loss=0.0245]\n",
      "Epoch 15/50 [Val]: 100%|██████████| 159/159 [00:29<00:00,  5.39it/s, loss=0.0513]\n"
     ]
    },
    {
     "name": "stdout",
     "output_type": "stream",
     "text": [
      "Epoch 15/50\n",
      "Train Loss: 0.0102, Train Acc: 0.9967, Train AUC: 0.9908\n",
      "Val Loss: 0.0174, Val Acc: 0.9931, Val AUC: 0.9944\n",
      "Learning Rate: 0.001000\n"
     ]
    },
    {
     "name": "stderr",
     "output_type": "stream",
     "text": [
      "Epoch 16/50 [Train]: 100%|██████████| 635/635 [02:20<00:00,  4.51it/s, loss=0.0110]\n",
      "Epoch 16/50 [Val]: 100%|██████████| 159/159 [00:29<00:00,  5.36it/s, loss=0.0147]\n"
     ]
    },
    {
     "name": "stdout",
     "output_type": "stream",
     "text": [
      "Epoch 16/50\n",
      "Train Loss: 0.0090, Train Acc: 0.9969, Train AUC: 0.9905\n",
      "Val Loss: 0.0081, Val Acc: 0.9978, Val AUC: 0.9945\n",
      "Learning Rate: 0.001000\n"
     ]
    },
    {
     "name": "stderr",
     "output_type": "stream",
     "text": [
      "Epoch 17/50 [Train]: 100%|██████████| 635/635 [02:18<00:00,  4.59it/s, loss=0.0015]\n",
      "Epoch 17/50 [Val]: 100%|██████████| 159/159 [00:29<00:00,  5.40it/s, loss=0.1791]\n"
     ]
    },
    {
     "name": "stdout",
     "output_type": "stream",
     "text": [
      "Epoch 17/50\n",
      "Train Loss: 0.0086, Train Acc: 0.9974, Train AUC: 0.9928\n",
      "Val Loss: 0.3710, Val Acc: 0.8788, Val AUC: 0.9171\n",
      "Learning Rate: 0.001000\n"
     ]
    },
    {
     "name": "stderr",
     "output_type": "stream",
     "text": [
      "Epoch 18/50 [Train]: 100%|██████████| 635/635 [02:18<00:00,  4.59it/s, loss=0.0002]\n",
      "Epoch 18/50 [Val]: 100%|██████████| 159/159 [00:29<00:00,  5.46it/s, loss=0.0005]\n"
     ]
    },
    {
     "name": "stdout",
     "output_type": "stream",
     "text": [
      "Epoch 18/50\n",
      "Train Loss: 0.0048, Train Acc: 0.9987, Train AUC: 0.9950\n",
      "Val Loss: 0.0021, Val Acc: 0.9996, Val AUC: 0.9989\n",
      "Learning Rate: 0.000100\n",
      "Checkpoint saved to best_asvspoof_model.pth\n"
     ]
    },
    {
     "name": "stderr",
     "output_type": "stream",
     "text": [
      "Epoch 19/50 [Train]: 100%|██████████| 635/635 [02:18<00:00,  4.58it/s, loss=0.0000]\n",
      "Epoch 19/50 [Val]: 100%|██████████| 159/159 [00:29<00:00,  5.45it/s, loss=0.0004]\n"
     ]
    },
    {
     "name": "stdout",
     "output_type": "stream",
     "text": [
      "Epoch 19/50\n",
      "Train Loss: 0.0027, Train Acc: 0.9991, Train AUC: 0.9974\n",
      "Val Loss: 0.0021, Val Acc: 0.9996, Val AUC: 0.9998\n",
      "Learning Rate: 0.000100\n"
     ]
    },
    {
     "name": "stderr",
     "output_type": "stream",
     "text": [
      "Epoch 20/50 [Train]: 100%|██████████| 635/635 [02:19<00:00,  4.55it/s, loss=0.0019]\n",
      "Epoch 20/50 [Val]: 100%|██████████| 159/159 [00:30<00:00,  5.25it/s, loss=0.0003]\n"
     ]
    },
    {
     "name": "stdout",
     "output_type": "stream",
     "text": [
      "Epoch 20/50\n",
      "Train Loss: 0.0019, Train Acc: 0.9997, Train AUC: 0.9992\n",
      "Val Loss: 0.0017, Val Acc: 0.9996, Val AUC: 0.9989\n",
      "Learning Rate: 0.000100\n",
      "Checkpoint saved to best_asvspoof_model.pth\n"
     ]
    },
    {
     "name": "stderr",
     "output_type": "stream",
     "text": [
      "Epoch 21/50 [Train]: 100%|██████████| 635/635 [02:18<00:00,  4.57it/s, loss=0.0000]\n",
      "Epoch 21/50 [Val]: 100%|██████████| 159/159 [00:30<00:00,  5.16it/s, loss=0.0002]\n"
     ]
    },
    {
     "name": "stdout",
     "output_type": "stream",
     "text": [
      "Epoch 21/50\n",
      "Train Loss: 0.0019, Train Acc: 0.9996, Train AUC: 0.9989\n",
      "Val Loss: 0.0040, Val Acc: 0.9992, Val AUC: 0.9961\n",
      "Learning Rate: 0.000100\n"
     ]
    },
    {
     "name": "stderr",
     "output_type": "stream",
     "text": [
      "Epoch 22/50 [Train]: 100%|██████████| 635/635 [02:17<00:00,  4.60it/s, loss=0.0000]\n",
      "Epoch 22/50 [Val]: 100%|██████████| 159/159 [00:30<00:00,  5.24it/s, loss=0.0003]\n"
     ]
    },
    {
     "name": "stdout",
     "output_type": "stream",
     "text": [
      "Epoch 22/50\n",
      "Train Loss: 0.0019, Train Acc: 0.9998, Train AUC: 0.9992\n",
      "Val Loss: 0.0017, Val Acc: 0.9996, Val AUC: 0.9989\n",
      "Learning Rate: 0.000100\n",
      "Checkpoint saved to best_asvspoof_model.pth\n"
     ]
    },
    {
     "name": "stderr",
     "output_type": "stream",
     "text": [
      "Epoch 23/50 [Train]: 100%|██████████| 635/635 [02:19<00:00,  4.55it/s, loss=0.0005]\n",
      "Epoch 23/50 [Val]: 100%|██████████| 159/159 [00:30<00:00,  5.22it/s, loss=0.0005]\n"
     ]
    },
    {
     "name": "stdout",
     "output_type": "stream",
     "text": [
      "Epoch 23/50\n",
      "Train Loss: 0.0023, Train Acc: 0.9996, Train AUC: 0.9985\n",
      "Val Loss: 0.0028, Val Acc: 0.9992, Val AUC: 0.9996\n",
      "Learning Rate: 0.000100\n"
     ]
    },
    {
     "name": "stderr",
     "output_type": "stream",
     "text": [
      "Epoch 24/50 [Train]: 100%|██████████| 635/635 [02:18<00:00,  4.59it/s, loss=0.0001]\n",
      "Epoch 24/50 [Val]: 100%|██████████| 159/159 [00:30<00:00,  5.22it/s, loss=0.0002]\n"
     ]
    },
    {
     "name": "stdout",
     "output_type": "stream",
     "text": [
      "Epoch 24/50\n",
      "Train Loss: 0.0016, Train Acc: 0.9997, Train AUC: 0.9990\n",
      "Val Loss: 0.0018, Val Acc: 0.9996, Val AUC: 0.9989\n",
      "Learning Rate: 0.000100\n"
     ]
    },
    {
     "name": "stderr",
     "output_type": "stream",
     "text": [
      "Epoch 25/50 [Train]: 100%|██████████| 635/635 [02:18<00:00,  4.59it/s, loss=0.0017]\n",
      "Epoch 25/50 [Val]: 100%|██████████| 159/159 [00:29<00:00,  5.34it/s, loss=0.0002]\n"
     ]
    },
    {
     "name": "stdout",
     "output_type": "stream",
     "text": [
      "Epoch 25/50\n",
      "Train Loss: 0.0014, Train Acc: 0.9999, Train AUC: 0.9993\n",
      "Val Loss: 0.0015, Val Acc: 0.9996, Val AUC: 0.9989\n",
      "Learning Rate: 0.000100\n",
      "Checkpoint saved to best_asvspoof_model.pth\n"
     ]
    },
    {
     "name": "stderr",
     "output_type": "stream",
     "text": [
      "Epoch 26/50 [Train]: 100%|██████████| 635/635 [02:19<00:00,  4.54it/s, loss=0.0001]\n",
      "Epoch 26/50 [Val]: 100%|██████████| 159/159 [00:38<00:00,  4.12it/s, loss=0.0001]\n"
     ]
    },
    {
     "name": "stdout",
     "output_type": "stream",
     "text": [
      "Epoch 26/50\n",
      "Train Loss: 0.0014, Train Acc: 0.9999, Train AUC: 0.9995\n",
      "Val Loss: 0.0016, Val Acc: 0.9996, Val AUC: 0.9998\n",
      "Learning Rate: 0.000100\n"
     ]
    },
    {
     "name": "stderr",
     "output_type": "stream",
     "text": [
      "Epoch 27/50 [Train]: 100%|██████████| 635/635 [02:20<00:00,  4.53it/s, loss=0.0107]\n",
      "Epoch 27/50 [Val]: 100%|██████████| 159/159 [00:30<00:00,  5.16it/s, loss=0.0001]\n"
     ]
    },
    {
     "name": "stdout",
     "output_type": "stream",
     "text": [
      "Epoch 27/50\n",
      "Train Loss: 0.0016, Train Acc: 0.9997, Train AUC: 0.9989\n",
      "Val Loss: 0.0022, Val Acc: 0.9994, Val AUC: 0.9980\n",
      "Learning Rate: 0.000100\n"
     ]
    },
    {
     "name": "stderr",
     "output_type": "stream",
     "text": [
      "Epoch 28/50 [Train]: 100%|██████████| 635/635 [02:21<00:00,  4.50it/s, loss=0.0093]\n",
      "Epoch 28/50 [Val]: 100%|██████████| 159/159 [00:33<00:00,  4.73it/s, loss=0.0003]\n"
     ]
    },
    {
     "name": "stdout",
     "output_type": "stream",
     "text": [
      "Epoch 28/50\n",
      "Train Loss: 0.0013, Train Acc: 0.9999, Train AUC: 0.9993\n",
      "Val Loss: 0.0016, Val Acc: 0.9998, Val AUC: 0.9999\n",
      "Learning Rate: 0.000100\n"
     ]
    },
    {
     "name": "stderr",
     "output_type": "stream",
     "text": [
      "Epoch 29/50 [Train]: 100%|██████████| 635/635 [02:29<00:00,  4.26it/s, loss=0.0005]\n",
      "Epoch 29/50 [Val]: 100%|██████████| 159/159 [00:31<00:00,  5.00it/s, loss=0.0001]\n"
     ]
    },
    {
     "name": "stdout",
     "output_type": "stream",
     "text": [
      "Epoch 29/50\n",
      "Train Loss: 0.0015, Train Acc: 0.9997, Train AUC: 0.9992\n",
      "Val Loss: 0.0014, Val Acc: 0.9996, Val AUC: 0.9989\n",
      "Learning Rate: 0.000100\n",
      "Checkpoint saved to best_asvspoof_model.pth\n"
     ]
    },
    {
     "name": "stderr",
     "output_type": "stream",
     "text": [
      "Epoch 30/50 [Train]: 100%|██████████| 635/635 [02:29<00:00,  4.24it/s, loss=0.0000]\n",
      "Epoch 30/50 [Val]: 100%|██████████| 159/159 [00:39<00:00,  3.99it/s, loss=0.0001]\n"
     ]
    },
    {
     "name": "stdout",
     "output_type": "stream",
     "text": [
      "Epoch 30/50\n",
      "Train Loss: 0.0013, Train Acc: 0.9999, Train AUC: 0.9999\n",
      "Val Loss: 0.0016, Val Acc: 0.9994, Val AUC: 0.9988\n",
      "Learning Rate: 0.000100\n"
     ]
    },
    {
     "name": "stderr",
     "output_type": "stream",
     "text": [
      "Epoch 31/50 [Train]: 100%|██████████| 635/635 [02:41<00:00,  3.94it/s, loss=0.0007]\n",
      "Epoch 31/50 [Val]: 100%|██████████| 159/159 [00:35<00:00,  4.44it/s, loss=0.0011]\n"
     ]
    },
    {
     "name": "stdout",
     "output_type": "stream",
     "text": [
      "Epoch 31/50\n",
      "Train Loss: 0.0014, Train Acc: 0.9998, Train AUC: 0.9990\n",
      "Val Loss: 0.0039, Val Acc: 0.9986, Val AUC: 0.9941\n",
      "Learning Rate: 0.000100\n"
     ]
    },
    {
     "name": "stderr",
     "output_type": "stream",
     "text": [
      "Epoch 32/50 [Train]: 100%|██████████| 635/635 [02:39<00:00,  3.99it/s, loss=0.0001]\n",
      "Epoch 32/50 [Val]: 100%|██████████| 159/159 [00:32<00:00,  4.89it/s, loss=0.0002]\n"
     ]
    },
    {
     "name": "stdout",
     "output_type": "stream",
     "text": [
      "Epoch 32/50\n",
      "Train Loss: 0.0011, Train Acc: 0.9998, Train AUC: 0.9997\n",
      "Val Loss: 0.0016, Val Acc: 0.9996, Val AUC: 0.9998\n",
      "Learning Rate: 0.000100\n"
     ]
    },
    {
     "name": "stderr",
     "output_type": "stream",
     "text": [
      "Epoch 33/50 [Train]: 100%|██████████| 635/635 [02:28<00:00,  4.27it/s, loss=0.0002]\n",
      "Epoch 33/50 [Val]: 100%|██████████| 159/159 [00:36<00:00,  4.32it/s, loss=0.0001]\n"
     ]
    },
    {
     "name": "stdout",
     "output_type": "stream",
     "text": [
      "Epoch 33/50\n",
      "Train Loss: 0.0010, Train Acc: 0.9998, Train AUC: 0.9995\n",
      "Val Loss: 0.0026, Val Acc: 0.9996, Val AUC: 0.9981\n",
      "Learning Rate: 0.000100\n"
     ]
    },
    {
     "name": "stderr",
     "output_type": "stream",
     "text": [
      "Epoch 34/50 [Train]: 100%|██████████| 635/635 [02:30<00:00,  4.21it/s, loss=0.0001]\n",
      "Epoch 34/50 [Val]: 100%|██████████| 159/159 [00:34<00:00,  4.63it/s, loss=0.0002]\n"
     ]
    },
    {
     "name": "stdout",
     "output_type": "stream",
     "text": [
      "Epoch 34/50\n",
      "Train Loss: 0.0011, Train Acc: 1.0000, Train AUC: 0.9998\n",
      "Val Loss: 0.0014, Val Acc: 0.9994, Val AUC: 0.9988\n",
      "Learning Rate: 0.000100\n",
      "Checkpoint saved to best_asvspoof_model.pth\n"
     ]
    },
    {
     "name": "stderr",
     "output_type": "stream",
     "text": [
      "Epoch 35/50 [Train]: 100%|██████████| 635/635 [02:31<00:00,  4.18it/s, loss=0.0001]\n",
      "Epoch 35/50 [Val]: 100%|██████████| 159/159 [00:40<00:00,  3.90it/s, loss=0.0001]\n"
     ]
    },
    {
     "name": "stdout",
     "output_type": "stream",
     "text": [
      "Epoch 35/50\n",
      "Train Loss: 0.0008, Train Acc: 1.0000, Train AUC: 0.9998\n",
      "Val Loss: 0.0012, Val Acc: 0.9998, Val AUC: 0.9999\n",
      "Learning Rate: 0.000100\n",
      "Checkpoint saved to best_asvspoof_model.pth\n"
     ]
    },
    {
     "name": "stderr",
     "output_type": "stream",
     "text": [
      "Epoch 36/50 [Train]: 100%|██████████| 635/635 [02:26<00:00,  4.33it/s, loss=0.0000]\n",
      "Epoch 36/50 [Val]: 100%|██████████| 159/159 [00:40<00:00,  3.92it/s, loss=0.0001]\n"
     ]
    },
    {
     "name": "stdout",
     "output_type": "stream",
     "text": [
      "Epoch 36/50\n",
      "Train Loss: 0.0010, Train Acc: 0.9998, Train AUC: 0.9995\n",
      "Val Loss: 0.0015, Val Acc: 0.9998, Val AUC: 0.9999\n",
      "Learning Rate: 0.000100\n"
     ]
    },
    {
     "name": "stderr",
     "output_type": "stream",
     "text": [
      "Epoch 37/50 [Train]: 100%|██████████| 635/635 [02:43<00:00,  3.88it/s, loss=0.0000]\n",
      "Epoch 37/50 [Val]: 100%|██████████| 159/159 [00:39<00:00,  4.06it/s, loss=0.0001]\n"
     ]
    },
    {
     "name": "stdout",
     "output_type": "stream",
     "text": [
      "Epoch 37/50\n",
      "Train Loss: 0.0008, Train Acc: 1.0000, Train AUC: 1.0000\n",
      "Val Loss: 0.0053, Val Acc: 0.9982, Val AUC: 0.9913\n",
      "Learning Rate: 0.000100\n"
     ]
    },
    {
     "name": "stderr",
     "output_type": "stream",
     "text": [
      "Epoch 38/50 [Train]: 100%|██████████| 635/635 [02:41<00:00,  3.93it/s, loss=0.0001]\n",
      "Epoch 38/50 [Val]: 100%|██████████| 159/159 [00:31<00:00,  4.97it/s, loss=0.0000]\n"
     ]
    },
    {
     "name": "stdout",
     "output_type": "stream",
     "text": [
      "Epoch 38/50\n",
      "Train Loss: 0.0008, Train Acc: 1.0000, Train AUC: 0.9998\n",
      "Val Loss: 0.0011, Val Acc: 0.9996, Val AUC: 0.9998\n",
      "Learning Rate: 0.000100\n",
      "Checkpoint saved to best_asvspoof_model.pth\n"
     ]
    },
    {
     "name": "stderr",
     "output_type": "stream",
     "text": [
      "Epoch 39/50 [Train]: 100%|██████████| 635/635 [02:38<00:00,  4.00it/s, loss=0.0000]\n",
      "Epoch 39/50 [Val]: 100%|██████████| 159/159 [00:33<00:00,  4.76it/s, loss=0.0001]\n"
     ]
    },
    {
     "name": "stdout",
     "output_type": "stream",
     "text": [
      "Epoch 39/50\n",
      "Train Loss: 0.0016, Train Acc: 0.9997, Train AUC: 0.9990\n",
      "Val Loss: 0.0015, Val Acc: 0.9992, Val AUC: 0.9987\n",
      "Learning Rate: 0.000100\n"
     ]
    },
    {
     "name": "stderr",
     "output_type": "stream",
     "text": [
      "Epoch 40/50 [Train]: 100%|██████████| 635/635 [02:42<00:00,  3.91it/s, loss=0.0000]\n",
      "Epoch 40/50 [Val]: 100%|██████████| 159/159 [00:36<00:00,  4.32it/s, loss=0.0004]\n"
     ]
    },
    {
     "name": "stdout",
     "output_type": "stream",
     "text": [
      "Epoch 40/50\n",
      "Train Loss: 0.0008, Train Acc: 0.9999, Train AUC: 0.9997\n",
      "Val Loss: 0.0022, Val Acc: 0.9996, Val AUC: 0.9998\n",
      "Learning Rate: 0.000100\n"
     ]
    },
    {
     "name": "stderr",
     "output_type": "stream",
     "text": [
      "Epoch 41/50 [Train]: 100%|██████████| 635/635 [02:37<00:00,  4.04it/s, loss=0.0000]\n",
      "Epoch 41/50 [Val]: 100%|██████████| 159/159 [00:36<00:00,  4.40it/s, loss=0.0003]\n"
     ]
    },
    {
     "name": "stdout",
     "output_type": "stream",
     "text": [
      "Epoch 41/50\n",
      "Train Loss: 0.0006, Train Acc: 1.0000, Train AUC: 1.0000\n",
      "Val Loss: 0.0018, Val Acc: 0.9996, Val AUC: 0.9998\n",
      "Learning Rate: 0.000100\n"
     ]
    },
    {
     "name": "stderr",
     "output_type": "stream",
     "text": [
      "Epoch 42/50 [Train]: 100%|██████████| 635/635 [02:25<00:00,  4.37it/s, loss=0.0001]\n",
      "Epoch 42/50 [Val]: 100%|██████████| 159/159 [00:37<00:00,  4.19it/s, loss=0.0003]\n"
     ]
    },
    {
     "name": "stdout",
     "output_type": "stream",
     "text": [
      "Epoch 42/50\n",
      "Train Loss: 0.0006, Train Acc: 1.0000, Train AUC: 0.9998\n",
      "Val Loss: 0.0016, Val Acc: 0.9996, Val AUC: 0.9989\n",
      "Learning Rate: 0.000100\n"
     ]
    },
    {
     "name": "stderr",
     "output_type": "stream",
     "text": [
      "Epoch 43/50 [Train]: 100%|██████████| 635/635 [02:44<00:00,  3.85it/s, loss=0.0000]\n",
      "Epoch 43/50 [Val]: 100%|██████████| 159/159 [00:33<00:00,  4.73it/s, loss=0.0001]\n"
     ]
    },
    {
     "name": "stdout",
     "output_type": "stream",
     "text": [
      "Epoch 43/50\n",
      "Train Loss: 0.0008, Train Acc: 1.0000, Train AUC: 1.0000\n",
      "Val Loss: 0.0018, Val Acc: 0.9996, Val AUC: 0.9998\n",
      "Learning Rate: 0.000100\n"
     ]
    },
    {
     "name": "stderr",
     "output_type": "stream",
     "text": [
      "Epoch 44/50 [Train]: 100%|██████████| 635/635 [02:45<00:00,  3.84it/s, loss=0.0000]\n",
      "Epoch 44/50 [Val]: 100%|██████████| 159/159 [00:37<00:00,  4.20it/s, loss=0.0000]\n"
     ]
    },
    {
     "name": "stdout",
     "output_type": "stream",
     "text": [
      "Epoch 44/50\n",
      "Train Loss: 0.0006, Train Acc: 1.0000, Train AUC: 1.0000\n",
      "Val Loss: 0.0013, Val Acc: 0.9998, Val AUC: 0.9999\n",
      "Learning Rate: 0.000100\n"
     ]
    },
    {
     "name": "stderr",
     "output_type": "stream",
     "text": [
      "Epoch 45/50 [Train]: 100%|██████████| 635/635 [02:44<00:00,  3.85it/s, loss=0.0001]\n",
      "Epoch 45/50 [Val]: 100%|██████████| 159/159 [00:38<00:00,  4.14it/s, loss=0.0000]\n"
     ]
    },
    {
     "name": "stdout",
     "output_type": "stream",
     "text": [
      "Epoch 45/50\n",
      "Train Loss: 0.0005, Train Acc: 1.0000, Train AUC: 1.0000\n",
      "Val Loss: 0.0013, Val Acc: 0.9996, Val AUC: 0.9998\n",
      "Learning Rate: 0.000010\n"
     ]
    },
    {
     "name": "stderr",
     "output_type": "stream",
     "text": [
      "Epoch 46/50 [Train]: 100%|██████████| 635/635 [02:44<00:00,  3.86it/s, loss=0.0000]\n",
      "Epoch 46/50 [Val]: 100%|██████████| 159/159 [00:37<00:00,  4.22it/s, loss=0.0001]\n"
     ]
    },
    {
     "name": "stdout",
     "output_type": "stream",
     "text": [
      "Epoch 46/50\n",
      "Train Loss: 0.0004, Train Acc: 1.0000, Train AUC: 1.0000\n",
      "Val Loss: 0.0014, Val Acc: 0.9996, Val AUC: 0.9998\n",
      "Learning Rate: 0.000010\n"
     ]
    },
    {
     "name": "stderr",
     "output_type": "stream",
     "text": [
      "Epoch 47/50 [Train]: 100%|██████████| 635/635 [02:26<00:00,  4.34it/s, loss=0.0000]\n",
      "Epoch 47/50 [Val]: 100%|██████████| 159/159 [00:33<00:00,  4.81it/s, loss=0.0000]\n"
     ]
    },
    {
     "name": "stdout",
     "output_type": "stream",
     "text": [
      "Epoch 47/50\n",
      "Train Loss: 0.0004, Train Acc: 1.0000, Train AUC: 1.0000\n",
      "Val Loss: 0.0013, Val Acc: 0.9994, Val AUC: 0.9988\n",
      "Learning Rate: 0.000010\n"
     ]
    },
    {
     "name": "stderr",
     "output_type": "stream",
     "text": [
      "Epoch 48/50 [Train]: 100%|██████████| 635/635 [02:24<00:00,  4.40it/s, loss=0.0000]\n",
      "Epoch 48/50 [Val]: 100%|██████████| 159/159 [00:31<00:00,  5.05it/s, loss=0.0001]\n"
     ]
    },
    {
     "name": "stdout",
     "output_type": "stream",
     "text": [
      "Epoch 48/50\n",
      "Train Loss: 0.0005, Train Acc: 1.0000, Train AUC: 1.0000\n",
      "Val Loss: 0.0015, Val Acc: 0.9996, Val AUC: 0.9998\n",
      "Learning Rate: 0.000010\n",
      "Early stopping\n",
      "Training completed.\n"
     ]
    }
   ],
   "source": [
    "def main():\n",
    "    print(\"Starting ASVspoof detection process...\")\n",
    "   \n",
    "    try:\n",
    "        # Set the root directory for the dataset\n",
    "        dataset_root = \"C:\\\\Users\\\\yeshw\\\\Downloads\\\\asvspoof\\\\LA\\\\LA\"\n",
    "        print(f\"Dataset root: {dataset_root}\")\n",
    "     \n",
    "        # Set the paths to your ASVspoof 2019 dataset\n",
    "        train_dir = os.path.join(dataset_root, \"ASVspoof2019_LA_train\", \"flac\")\n",
    "        protocol_file = os.path.join(dataset_root, \"ASVspoof2019_LA_cm_protocols\", \"ASVspoof2019.LA.cm.train.trn.txt\")\n",
    "       \n",
    "        print(f\"Train directory: {train_dir}\")\n",
    "        print(f\"Protocol file: {protocol_file}\")\n",
    "       \n",
    "        # Check contents of train_dir\n",
    "        print(f\"Contents of train directory: {os.listdir(train_dir)[:10]}...\")  # Print first 10 items\n",
    "       \n",
    "        # Create datasets and dataloaders\n",
    "        print(\"Creating dataset and applying transformations...\")\n",
    "        transform = AudioTransform(sr=16000)\n",
    "        full_dataset = ASVspoofDataset(train_dir, protocol_file, transform=transform)\n",
    "       \n",
    "        print(f\"Total samples in dataset: {len(full_dataset)}\")\n",
    "       \n",
    "        # Visualize a sample\n",
    "        sample_audio, sample_label = full_dataset[0]\n",
    "        print(f\"Sample audio shape: {sample_audio.shape}\")\n",
    "        print(f\"Sample label: {'Spoof' if sample_label == 1 else 'Bonafide'}\")\n",
    "   \n",
    "        # Split the dataset\n",
    "        print(\"Splitting dataset into train and validation sets...\")\n",
    "        train_size = int(0.8 * len(full_dataset))\n",
    "        val_size = len(full_dataset) - train_size\n",
    "        train_dataset, val_dataset = torch.utils.data.random_split(full_dataset, [train_size, val_size])\n",
    "   \n",
    "        print(f\"Train set size: {len(train_dataset)}\")\n",
    "        print(f\"Validation set size: {len(val_dataset)}\")\n",
    "   \n",
    "        # Create data loaders\n",
    "        print(\"Creating data loaders...\")\n",
    "        train_loader = DataLoader(train_dataset, batch_size=32, shuffle=True, num_workers=0, pin_memory=True, collate_fn=collate_fn)\n",
    "        val_loader = DataLoader(val_dataset, batch_size=32, shuffle=False, num_workers=0, pin_memory=True, collate_fn=collate_fn)\n",
    "   \n",
    "        # Check first batch\n",
    "        for batch_idx, (inputs, labels) in enumerate(train_loader):\n",
    "            print(f\"First batch - Inputs shape: {inputs.shape}, Labels shape: {labels.shape}\")\n",
    "            break\n",
    "   \n",
    "        # Initialize model\n",
    "        print(\"Initializing model...\")\n",
    "        model = ASVResNet(num_classes=2)\n",
    "        print(model)\n",
    "   \n",
    "        # Loss and optimizer\n",
    "        criterion = nn.CrossEntropyLoss()\n",
    "        optimizer = optim.AdamW(model.parameters(), lr=0.001, weight_decay=0.01)\n",
    "        scheduler = optim.lr_scheduler.ReduceLROnPlateau(optimizer, mode='min', factor=0.1, patience=5, verbose=True)\n",
    "   \n",
    "        # Check CUDA availability\n",
    "        device = torch.device(\"cuda\" if torch.cuda.is_available() else \"cpu\")\n",
    "        print(f\"Using device: {device}\")\n",
    "   \n",
    "        if torch.cuda.is_available():\n",
    "            print(f\"CUDA Device: {torch.cuda.get_device_name(0)}\")\n",
    "            print(f\"CUDA Version: {torch.version.cuda}\")\n",
    "   \n",
    "        # Move model to device\n",
    "        model = model.to(device)\n",
    "   \n",
    "        # Train model\n",
    "        print(\"Starting training process...\")\n",
    "        model = train_model(model, train_loader, val_loader, criterion, optimizer, scheduler, num_epochs=50, device=device, checkpoint_path='best_asvspoof_model.pth')\n",
    "        print(\"Training completed.\")\n",
    "    except FileNotFoundError as e:\n",
    "        print(f\"Error: File not found. Please check your dataset paths. Details: {e}\")\n",
    "    except PermissionError as e:\n",
    "        print(f\"Error: Permission denied. Please check your file permissions. Details: {e}\")\n",
    "    except Exception as e:\n",
    "        print(f\"An unexpected error occurred: {e}\")\n",
    "        print(\"Please check your code and data, and try again.\")\n",
    "\n",
    "if __name__ == \"__main__\":\n",
    "    main()"
   ]
  },
  {
   "cell_type": "code",
   "execution_count": 38,
   "metadata": {},
   "outputs": [
    {
     "name": "stdout",
     "output_type": "stream",
     "text": [
      "Starting ASVspoof detection process...\n",
      "Dataset root: C:\\Users\\yeshw\\Downloads\\asvspoof\\LA\\LA\n",
      "Train directory: C:\\Users\\yeshw\\Downloads\\asvspoof\\LA\\LA\\ASVspoof2019_LA_train\\flac\n",
      "Protocol file: C:\\Users\\yeshw\\Downloads\\asvspoof\\LA\\LA\\ASVspoof2019_LA_cm_protocols\\ASVspoof2019.LA.cm.train.trn.txt\n",
      "Contents of train directory: ['LA_T_1000137.flac', 'LA_T_1000406.flac', 'LA_T_1000648.flac', 'LA_T_1000824.flac', 'LA_T_1001074.flac', 'LA_T_1001114.flac', 'LA_T_1001169.flac', 'LA_T_1001718.flac', 'LA_T_1001871.flac', 'LA_T_1002656.flac']...\n",
      "Creating dataset and applying transformations...\n",
      "Total samples in dataset: 25380\n",
      "Sample audio shape: torch.Size([80, 94])\n",
      "Sample label: Bonafide\n",
      "Splitting dataset into train and validation sets...\n",
      "Train set size: 20304\n",
      "Validation set size: 5076\n",
      "Creating data loaders...\n",
      "Initializing model...\n",
      "ASVResNet(\n",
      "  (conv1): Conv2d(1, 32, kernel_size=(3, 3), stride=(1, 1), padding=(1, 1))\n",
      "  (bn1): BatchNorm2d(32, eps=1e-05, momentum=0.1, affine=True, track_running_stats=True)\n",
      "  (relu): ReLU(inplace=True)\n",
      "  (layer1): Sequential(\n",
      "    (0): Conv2d(32, 64, kernel_size=(3, 3), stride=(1, 1), padding=(1, 1))\n",
      "    (1): BatchNorm2d(64, eps=1e-05, momentum=0.1, affine=True, track_running_stats=True)\n",
      "    (2): ReLU(inplace=True)\n",
      "    (3): Conv2d(64, 64, kernel_size=(3, 3), stride=(1, 1), padding=(1, 1))\n",
      "    (4): BatchNorm2d(64, eps=1e-05, momentum=0.1, affine=True, track_running_stats=True)\n",
      "    (5): ReLU(inplace=True)\n",
      "  )\n",
      "  (layer2): Sequential(\n",
      "    (0): Conv2d(64, 128, kernel_size=(3, 3), stride=(1, 1), padding=(1, 1))\n",
      "    (1): BatchNorm2d(128, eps=1e-05, momentum=0.1, affine=True, track_running_stats=True)\n",
      "    (2): ReLU(inplace=True)\n",
      "    (3): Conv2d(128, 128, kernel_size=(3, 3), stride=(1, 1), padding=(1, 1))\n",
      "    (4): BatchNorm2d(128, eps=1e-05, momentum=0.1, affine=True, track_running_stats=True)\n",
      "    (5): ReLU(inplace=True)\n",
      "  )\n",
      "  (avg_pool): AdaptiveAvgPool2d(output_size=(1, 1))\n",
      "  (fc): Linear(in_features=128, out_features=2, bias=True)\n",
      ")\n",
      "Using device: cuda\n",
      "CUDA Device: NVIDIA GeForce RTX 4050 Laptop GPU\n",
      "CUDA Version: 12.1\n"
     ]
    },
    {
     "name": "stderr",
     "output_type": "stream",
     "text": [
      "Evaluating: 100%|██████████| 159/159 [00:32<00:00,  4.94it/s]"
     ]
    },
    {
     "name": "stdout",
     "output_type": "stream",
     "text": [
      "Test Loss: 0.0003\n",
      "Test Accuracy: 1.0000\n",
      "Test AUC: 1.0000\n",
      "Visualizing metrics...\n",
      "An unexpected error occurred: local variable 'test_preds' referenced before assignment\n",
      "Please check your code and data, and try again.\n"
     ]
    },
    {
     "name": "stderr",
     "output_type": "stream",
     "text": [
      "\n"
     ]
    }
   ],
   "source": [
    "def evaluate_model(model, test_loader, criterion, device):\n",
    "    model.eval()\n",
    "    test_loss = 0.0\n",
    "    test_preds = []\n",
    "    test_labels = []\n",
    "\n",
    "    with torch.no_grad():\n",
    "        for inputs, labels in tqdm(test_loader, desc='Evaluating'):\n",
    "            inputs, labels = inputs.to(device), labels.to(device)\n",
    "            outputs = model(inputs)\n",
    "            loss = criterion(outputs, labels)\n",
    "\n",
    "            test_loss += loss.item() * inputs.size(0)\n",
    "            _, preds = torch.max(outputs, 1)\n",
    "            test_preds.extend(preds.cpu().numpy())\n",
    "            test_labels.extend(labels.cpu().numpy())\n",
    "\n",
    "    test_loss /= len(test_loader.dataset)\n",
    "    test_acc = accuracy_score(test_labels, test_preds)\n",
    "    test_auc = roc_auc_score(test_labels, test_preds)\n",
    "\n",
    "    print(f'Test Loss: {test_loss:.4f}')\n",
    "    print(f'Test Accuracy: {test_acc:.4f}')\n",
    "    print(f'Test AUC: {test_auc:.4f}')\n",
    "\n",
    "    return test_loss, test_acc, test_auc, test_preds, test_labels\n",
    "\n",
    "def main():\n",
    "    # (Other initialization and dataset code)\n",
    "    \n",
    "    # Evaluate the model\n",
    "    test_loss, test_acc, test_auc, test_preds, test_labels = evaluate_model(model, val_loader, criterion, device)\n",
    "    \n",
    "    # Visualize metrics\n",
    "    print(\"Visualizing metrics...\")\n",
    "    plot_confusion_matrix(test_labels, test_preds, classes=['Bonafide', 'Spoof'])\n",
    "\n",
    "if __name__ == \"__main__\":\n",
    "    main()\n"
   ]
  },
  {
   "cell_type": "code",
   "execution_count": 40,
   "metadata": {},
   "outputs": [
    {
     "name": "stdout",
     "output_type": "stream",
     "text": [
      "Starting ASVspoof detection process...\n",
      "Dataset root: C:\\Users\\yeshw\\Downloads\\asvspoof\\LA\\LA\n",
      "Train directory: C:\\Users\\yeshw\\Downloads\\asvspoof\\LA\\LA\\ASVspoof2019_LA_train\\flac\n",
      "Protocol file: C:\\Users\\yeshw\\Downloads\\asvspoof\\LA\\LA\\ASVspoof2019_LA_cm_protocols\\ASVspoof2019.LA.cm.train.trn.txt\n",
      "Contents of train directory: ['LA_T_1000137.flac', 'LA_T_1000406.flac', 'LA_T_1000648.flac', 'LA_T_1000824.flac', 'LA_T_1001074.flac', 'LA_T_1001114.flac', 'LA_T_1001169.flac', 'LA_T_1001718.flac', 'LA_T_1001871.flac', 'LA_T_1002656.flac']...\n",
      "Creating dataset and applying transformations...\n",
      "Total samples in dataset: 25380\n",
      "Sample audio shape: torch.Size([80, 94])\n",
      "Sample label: Bonafide\n",
      "Splitting dataset into train and validation sets...\n",
      "Train set size: 20304\n",
      "Validation set size: 5076\n",
      "Creating data loaders...\n",
      "Initializing model...\n",
      "ASVResNet(\n",
      "  (conv1): Conv2d(1, 32, kernel_size=(3, 3), stride=(1, 1), padding=(1, 1))\n",
      "  (bn1): BatchNorm2d(32, eps=1e-05, momentum=0.1, affine=True, track_running_stats=True)\n",
      "  (relu): ReLU(inplace=True)\n",
      "  (layer1): Sequential(\n",
      "    (0): Conv2d(32, 64, kernel_size=(3, 3), stride=(1, 1), padding=(1, 1))\n",
      "    (1): BatchNorm2d(64, eps=1e-05, momentum=0.1, affine=True, track_running_stats=True)\n",
      "    (2): ReLU(inplace=True)\n",
      "    (3): Conv2d(64, 64, kernel_size=(3, 3), stride=(1, 1), padding=(1, 1))\n",
      "    (4): BatchNorm2d(64, eps=1e-05, momentum=0.1, affine=True, track_running_stats=True)\n",
      "    (5): ReLU(inplace=True)\n",
      "  )\n",
      "  (layer2): Sequential(\n",
      "    (0): Conv2d(64, 128, kernel_size=(3, 3), stride=(1, 1), padding=(1, 1))\n",
      "    (1): BatchNorm2d(128, eps=1e-05, momentum=0.1, affine=True, track_running_stats=True)\n",
      "    (2): ReLU(inplace=True)\n",
      "    (3): Conv2d(128, 128, kernel_size=(3, 3), stride=(1, 1), padding=(1, 1))\n",
      "    (4): BatchNorm2d(128, eps=1e-05, momentum=0.1, affine=True, track_running_stats=True)\n",
      "    (5): ReLU(inplace=True)\n",
      "  )\n",
      "  (avg_pool): AdaptiveAvgPool2d(output_size=(1, 1))\n",
      "  (fc): Linear(in_features=128, out_features=2, bias=True)\n",
      ")\n",
      "Using device: cuda\n",
      "CUDA Device: NVIDIA GeForce RTX 4050 Laptop GPU\n",
      "CUDA Version: 12.1\n"
     ]
    },
    {
     "name": "stderr",
     "output_type": "stream",
     "text": [
      "Evaluating: 100%|██████████| 159/159 [01:00<00:00,  2.64it/s]"
     ]
    },
    {
     "name": "stdout",
     "output_type": "stream",
     "text": [
      "Test Loss: 0.0004\n",
      "Test Accuracy: 0.9998\n",
      "Test AUC: 0.9999\n",
      "Visualizing metrics...\n"
     ]
    },
    {
     "name": "stderr",
     "output_type": "stream",
     "text": [
      "\n"
     ]
    },
    {
     "data": {
      "image/png": "[encoded data removed]",
      "text/plain": [
       "<Figure size 800x600 with 2 Axes>"
      ]
     },
     "metadata": {},
     "output_type": "display_data"
    },
    {
     "data": {
      "image/png": "[encoded data removed]",
      "text/plain": [
       "<Figure size 640x480 with 1 Axes>"
      ]
     },
     "metadata": {},
     "output_type": "display_data"
    },
    {
     "data": {
      "image/png": "[encoded data removed]",
      "text/plain": [
       "<Figure size 640x480 with 1 Axes>"
      ]
     },
     "metadata": {},
     "output_type": "display_data"
    }
   ],
   "source": [
    "import os\n",
    "import torch\n",
    "import torch.nn as nn\n",
    "from torch.utils.data import DataLoader\n",
    "import seaborn as sns\n",
    "import matplotlib.pyplot as plt\n",
    "from sklearn.metrics import roc_curve, auc, precision_recall_curve\n",
    "from tqdm import tqdm\n",
    "\n",
    "\n",
    "\n",
    "def plot_roc_curve(labels, preds):\n",
    "    fpr, tpr, _ = roc_curve(labels, preds)\n",
    "    roc_auc = auc(fpr, tpr)\n",
    "    plt.figure()\n",
    "    plt.plot(fpr, tpr, color='darkorange', lw=2, label=f'ROC curve (area = {roc_auc:.2f})')\n",
    "    plt.plot([0, 1], [0, 1], color='navy', lw=2, linestyle='--')\n",
    "    plt.xlim([0.0, 1.0])\n",
    "    plt.ylim([0.0, 1.05])\n",
    "    plt.xlabel('False Positive Rate')\n",
    "    plt.ylabel('True Positive Rate')\n",
    "    plt.title('Receiver Operating Characteristic')\n",
    "    plt.legend(loc=\"lower right\")\n",
    "    plt.show()\n",
    "\n",
    "def plot_precision_recall_curve(labels, preds):\n",
    "    precision, recall, _ = precision_recall_curve(labels, preds)\n",
    "    plt.figure()\n",
    "    plt.plot(recall, precision, color='blue', lw=2)\n",
    "    plt.xlabel('Recall')\n",
    "    plt.ylabel('Precision')\n",
    "    plt.title('Precision-Recall Curve')\n",
    "    plt.show()\n",
    "\n",
    "# Define val_dataset by splitting full_dataset\n",
    "def evaluate_model(model, test_loader, criterion, device):\n",
    "    model.eval()\n",
    "    test_loss = 0.0\n",
    "    test_preds = []\n",
    "    test_labels = []\n",
    "\n",
    "    with torch.no_grad():\n",
    "        for inputs, labels in tqdm(test_loader, desc='Evaluating'):\n",
    "            inputs, labels = inputs.to(device), labels.to(device)\n",
    "            outputs = model(inputs)\n",
    "            loss = criterion(outputs, labels)\n",
    "\n",
    "            test_loss += loss.item() * inputs.size(0)\n",
    "            _, preds = torch.max(outputs, 1)\n",
    "            test_preds.extend(preds.cpu().numpy())\n",
    "            test_labels.extend(labels.cpu().numpy())\n",
    "\n",
    "    test_loss /= len(test_loader.dataset)\n",
    "    test_acc = accuracy_score(test_labels, test_preds)\n",
    "    test_auc = roc_auc_score(test_labels, test_preds)\n",
    "\n",
    "    print(f'Test Loss: {test_loss:.4f}')\n",
    "    print(f'Test Accuracy: {test_acc:.4f}')\n",
    "    print(f'Test AUC: {test_auc:.4f}')\n",
    "\n",
    "    return test_loss, test_acc, test_auc, test_preds, test_labels\n",
    "\n",
    "def plot_confusion_matrix(y_true, y_pred, classes):\n",
    "    cm = confusion_matrix(y_true, y_pred)\n",
    "    plt.figure(figsize=(8, 6))\n",
    "    sns.heatmap(cm, annot=True, fmt='d', cmap='Blues', xticklabels=classes, yticklabels=classes)\n",
    "    plt.xlabel('Predicted')\n",
    "    plt.ylabel('True')\n",
    "    plt.title('Confusion Matrix')\n",
    "    plt.show()\n",
    "\n",
    "def main():\n",
    "    print(\"Starting ASVspoof detection process...\")\n",
    "   \n",
    "    try:\n",
    "        # Set the root directory for the dataset\n",
    "        dataset_root = \"C:\\\\Users\\\\yeshw\\\\Downloads\\\\asvspoof\\\\LA\\\\LA\"\n",
    "        print(f\"Dataset root: {dataset_root}\")\n",
    "     \n",
    "        # Set the paths to your ASVspoof 2019 dataset\n",
    "        train_dir = os.path.join(dataset_root, \"ASVspoof2019_LA_train\", \"flac\")\n",
    "        protocol_file = os.path.join(dataset_root, \"ASVspoof2019_LA_cm_protocols\", \"ASVspoof2019.LA.cm.train.trn.txt\")\n",
    "       \n",
    "        print(f\"Train directory: {train_dir}\")\n",
    "        print(f\"Protocol file: {protocol_file}\")\n",
    "       \n",
    "        # Check contents of train_dir\n",
    "        print(f\"Contents of train directory: {os.listdir(train_dir)[:10]}...\")  # Print first 10 items\n",
    "       \n",
    "        # Create datasets and dataloaders\n",
    "        print(\"Creating dataset and applying transformations...\")\n",
    "        transform = AudioTransform(sr=16000)\n",
    "        full_dataset = ASVspoofDataset(train_dir, protocol_file, transform=transform)\n",
    "       \n",
    "        print(f\"Total samples in dataset: {len(full_dataset)}\")\n",
    "       \n",
    "        # Visualize a sample\n",
    "        sample_audio, sample_label = full_dataset[0]\n",
    "        print(f\"Sample audio shape: {sample_audio.shape}\")\n",
    "        print(f\"Sample label: {'Spoof' if sample_label == 1 else 'Bonafide'}\")\n",
    "   \n",
    "        # Split the dataset\n",
    "        print(\"Splitting dataset into train and validation sets...\")\n",
    "        train_size = int(0.8 * len(full_dataset))\n",
    "        val_size = len(full_dataset) - train_size\n",
    "        train_dataset, val_dataset = torch.utils.data.random_split(full_dataset, [train_size, val_size])\n",
    "   \n",
    "        print(f\"Train set size: {len(train_dataset)}\")\n",
    "        print(f\"Validation set size: {len(val_dataset)}\")\n",
    "   \n",
    "        # Create data loaders\n",
    "        print(\"Creating data loaders...\")\n",
    "        val_loader = DataLoader(val_dataset, batch_size=32, shuffle=False, num_workers=0, pin_memory=True, collate_fn=collate_fn)\n",
    "   \n",
    "        # Initialize model\n",
    "        print(\"Initializing model...\")\n",
    "        model = ASVResNet(num_classes=2)\n",
    "        print(model)\n",
    "   \n",
    "        # Loss and optimizer\n",
    "        criterion = nn.CrossEntropyLoss()\n",
    "   \n",
    "        # Check CUDA availability\n",
    "        device = torch.device(\"cuda\" if torch.cuda.is_available() else \"cpu\")\n",
    "        print(f\"Using device: {device}\")\n",
    "   \n",
    "        if torch.cuda.is_available():\n",
    "            print(f\"CUDA Device: {torch.cuda.get_device_name(0)}\")\n",
    "            print(f\"CUDA Version: {torch.version.cuda}\")\n",
    "   \n",
    "        # Move model to device\n",
    "        model = model.to(device)\n",
    "       \n",
    "        # Load the best model\n",
    "        checkpoint_path = 'best_asvspoof_model.pth'\n",
    "        checkpoint = torch.load(checkpoint_path)\n",
    "        model.load_state_dict(checkpoint['model_state_dict'])\n",
    "\n",
    "        # Evaluate the model\n",
    "        test_loss, test_acc, test_auc, test_preds, test_labels = evaluate_model(model, val_loader, criterion, device)\n",
    "        \n",
    "        # Visualize metrics\n",
    "        print(\"Visualizing metrics...\")\n",
    "        plot_confusion_matrix(test_labels, test_preds, classes=['Bonafide', 'Spoof'])\n",
    "        plot_roc_curve(test_labels, test_preds)\n",
    "        plot_precision_recall_curve(test_labels, test_preds)\n",
    "        \n",
    "    except FileNotFoundError as e:\n",
    "        print(f\"Error: File not found. Please check your dataset paths. Details: {e}\")\n",
    "    except PermissionError as e:\n",
    "        print(f\"Error: Permission denied. Please check your file permissions. Details: {e}\")\n",
    "    except Exception as e:\n",
    "        print(f\"An unexpected error occurred: {e}\")\n",
    "        print(\"Please check your code and data, and try again.\")\n",
    "\n",
    "if __name__ == \"__main__\":\n",
    "    main()\n"
   ]
  },
  {
   "cell_type": "code",
   "execution_count": 47,
   "metadata": {},
   "outputs": [
    {
     "name": "stdout",
     "output_type": "stream",
     "text": [
      "Prediction for C:\\Users\\yeshw\\Downloads\\asvspoof\\LA\\LA\\ASVspoof2019_LA_dev\\flac\\LA_D_1000265.flac: Spoof\n"
     ]
    }
   ],
   "source": [
    "def predict_single_file(model, file_path, transform, device):\n",
    "    model.eval()\n",
    "    try:\n",
    "        audio, sr = librosa.load(file_path, sr=16000, duration=3)  # Load up to 3 seconds\n",
    "        if len(audio) < sr * 3:\n",
    "            audio = np.pad(audio, (0, sr * 3 - len(audio)), mode='constant')\n",
    "        \n",
    "        audio = transform(audio).unsqueeze(0).to(device)  # Add batch dimension and move to device\n",
    "        \n",
    "        with torch.no_grad():\n",
    "            output = model(audio)\n",
    "            _, predicted = torch.max(output, 1)\n",
    "            label = 'Spoof' if predicted.item() == 1 else 'Bonafide'\n",
    "        \n",
    "        print(f\"Prediction for {file_path}: {label}\")\n",
    "    except Exception as e:\n",
    "        print(f\"Error processing file {file_path}: {e}\")\n",
    "\n",
    "# Path to the new audio file\n",
    "new_file_path = \"C:\\\\Users\\\\yeshw\\\\Downloads\\\\asvspoof\\\\LA\\\\LA\\\\ASVspoof2019_LA_dev\\\\flac\\\\LA_D_1000265.flac\"\n",
    "\n",
    "# Load the best model\n",
    "checkpoint_path = 'best_asvspoof_model.pth'\n",
    "checkpoint = torch.load(checkpoint_path)\n",
    "model = ASVResNet(num_classes=2)\n",
    "model.load_state_dict(checkpoint['model_state_dict'])\n",
    "\n",
    "# Define device\n",
    "device = torch.device(\"cuda\" if torch.cuda.is_available() else \"cpu\")\n",
    "model = model.to(device)\n",
    "\n",
    "# Define transform\n",
    "transform = AudioTransform(sr=16000)\n",
    "\n",
    "# Predict the new file\n",
    "predict_single_file(model, new_file_path, transform, device)"
   ]
  }
 ],
 "metadata": {
  "kernelspec": {
   "display_name": "myenv",
   "language": "python",
   "name": "python3"
  },
  "language_info": {
   "codemirror_mode": {
    "name": "ipython",
    "version": 3
   },
   "file_extension": ".py",
   "mimetype": "text/x-python",
   "name": "python",
   "nbconvert_exporter": "python",
   "pygments_lexer": "ipython3",
   "version": "3.10.15"
  }
 },
 "nbformat": 4,
 "nbformat_minor": 2
}
